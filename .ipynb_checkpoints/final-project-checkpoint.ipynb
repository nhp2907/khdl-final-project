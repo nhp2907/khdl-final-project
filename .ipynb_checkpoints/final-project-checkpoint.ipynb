{
 "cells": [
  {
   "cell_type": "markdown",
   "id": "f0721aaa",
   "metadata": {},
   "source": [
    "# Đồ án cuối kỳ môn Khoa Học Dữ Liệu"
   ]
  },
  {
   "cell_type": "markdown",
   "id": "3c244567",
   "metadata": {},
   "source": [
    "---"
   ]
  },
  {
   "cell_type": "markdown",
   "id": "8741c7f1",
   "metadata": {},
   "source": [
    "## Import các thư viện cần thiết"
   ]
  },
  {
   "cell_type": "code",
   "execution_count": 1,
   "id": "c32a6dd4",
   "metadata": {},
   "outputs": [],
   "source": [
    "import pandas as pd"
   ]
  },
  {
   "cell_type": "markdown",
   "id": "da6fa505",
   "metadata": {},
   "source": [
    "---"
   ]
  },
  {
   "cell_type": "markdown",
   "id": "9215d7a8",
   "metadata": {},
   "source": [
    "## Thu thập dữ liệu"
   ]
  },
  {
   "cell_type": "markdown",
   "id": "c183831e",
   "metadata": {},
   "source": [
    "Đồ án cuối kỳ lần này, trong quá trình tìm dataset, tụi em đã tìm thấy một bộ dữ liệu thú vị về phim của hai hãng phim lớn nhất của thế giới hiện tại là Marvel và DC. Đây là dữ liệu về điểm đánh giá IMDb của các bộ phim, từ bộ dữ liệu này tụi em muốn khám phá, so sánh một số thông tin giữ hai hãng phim đình đám này. Dữ liệu sử dụng tụi em đã lấy ở [đây](https://www.kaggle.com/hetulmehta/marvel-vs-dc-imdb-dataset)."
   ]
  },
  {
   "cell_type": "markdown",
   "id": "0d1e944d",
   "metadata": {},
   "source": [
    "---"
   ]
  },
  {
   "cell_type": "markdown",
   "id": "7c32c4e6",
   "metadata": {},
   "source": [
    "## Khám phá dữ liệu"
   ]
  },
  {
   "cell_type": "markdown",
   "id": "6e6f3d30",
   "metadata": {},
   "source": [
    "### Xem cấu trúc của dữ liệu"
   ]
  },
  {
   "cell_type": "code",
   "execution_count": 2,
   "id": "bd3d263e",
   "metadata": {},
   "outputs": [
    {
     "name": "stdout",
     "output_type": "stream",
     "text": [
      "<class 'pandas.core.frame.DataFrame'>\n",
      "RangeIndex: 1690 entries, 0 to 1689\n",
      "Data columns (total 14 columns):\n",
      " #   Column       Non-Null Count  Dtype  \n",
      "---  ------       --------------  -----  \n",
      " 0   Unnamed: 0   1690 non-null   int64  \n",
      " 1   Movie        1690 non-null   object \n",
      " 2   Year         1657 non-null   object \n",
      " 3   Genre        1683 non-null   object \n",
      " 4   RunTime      1407 non-null   object \n",
      " 5   Rating       1463 non-null   object \n",
      " 6   Director     1474 non-null   object \n",
      " 7   Actor        1660 non-null   object \n",
      " 8   Description  1690 non-null   object \n",
      " 9   IMDB_Score   1486 non-null   float64\n",
      " 10  Metascore    65 non-null     float64\n",
      " 11  Votes        1486 non-null   object \n",
      " 12  USA_Gross    64 non-null     object \n",
      " 13  Category     1690 non-null   object \n",
      "dtypes: float64(2), int64(1), object(11)\n",
      "memory usage: 185.0+ KB\n"
     ]
    }
   ],
   "source": [
    "movie_df = pd.read_csv('Marvel_DC_imdb.csv')\n",
    "movie_df.info()"
   ]
  },
  {
   "cell_type": "code",
   "execution_count": 3,
   "id": "3b5c43c1",
   "metadata": {},
   "outputs": [
    {
     "data": {
      "text/plain": [
       "(1690, 14)"
      ]
     },
     "execution_count": 3,
     "metadata": {},
     "output_type": "execute_result"
    }
   ],
   "source": [
    "movie_df.shape"
   ]
  },
  {
   "cell_type": "markdown",
   "id": "3f3efccb",
   "metadata": {},
   "source": [
    "- Dữ liệu thô có 1690 dòng, và 14 cột.\n",
    "- Mỗi dòng chứa thông tin của một bộ phim và số điểm đánh giá của bộ phim đó, không có dòng nào lạc loài.\n",
    "- Có một số các bộ phim không có điểm đánh giá, tỉ lệ là bao nhiêu ta sẽ xem ở các phần tiếp theo.\n",
    "- Nhiều cột không mang ý nghĩa sẽ xoá bỏ trong phần tiền xử lý"
   ]
  },
  {
   "cell_type": "markdown",
   "id": "d2ed812e",
   "metadata": {},
   "source": [
    "### Có dòng nào bị trùng không? Có phim nào được đánh giá hơn một lần không?"
   ]
  },
  {
   "cell_type": "code",
   "execution_count": 4,
   "id": "2c2c238a",
   "metadata": {},
   "outputs": [
    {
     "data": {
      "text/html": [
       "<div>\n",
       "<style scoped>\n",
       "    .dataframe tbody tr th:only-of-type {\n",
       "        vertical-align: middle;\n",
       "    }\n",
       "\n",
       "    .dataframe tbody tr th {\n",
       "        vertical-align: top;\n",
       "    }\n",
       "\n",
       "    .dataframe thead th {\n",
       "        text-align: right;\n",
       "    }\n",
       "</style>\n",
       "<table border=\"1\" class=\"dataframe\">\n",
       "  <thead>\n",
       "    <tr style=\"text-align: right;\">\n",
       "      <th></th>\n",
       "      <th>Unnamed: 0</th>\n",
       "      <th>Movie</th>\n",
       "      <th>Year</th>\n",
       "      <th>Genre</th>\n",
       "      <th>RunTime</th>\n",
       "      <th>Rating</th>\n",
       "      <th>Director</th>\n",
       "      <th>Actor</th>\n",
       "      <th>Description</th>\n",
       "      <th>IMDB_Score</th>\n",
       "      <th>Metascore</th>\n",
       "      <th>Votes</th>\n",
       "      <th>USA_Gross</th>\n",
       "      <th>Category</th>\n",
       "    </tr>\n",
       "  </thead>\n",
       "  <tbody>\n",
       "    <tr>\n",
       "      <th>107</th>\n",
       "      <td>107</td>\n",
       "      <td>Mutant X</td>\n",
       "      <td>(2001–2004)</td>\n",
       "      <td>Action,Adventure,Drama</td>\n",
       "      <td>42 min</td>\n",
       "      <td>TV-PG</td>\n",
       "      <td>BradTurner</td>\n",
       "      <td>JohnShea,VictoriaPratt,LaurenLeeSmith,ForbesMarch</td>\n",
       "      <td>Mutant X encounters a new faction of New Mutan...</td>\n",
       "      <td>7.1</td>\n",
       "      <td>NaN</td>\n",
       "      <td>32</td>\n",
       "      <td>NaN</td>\n",
       "      <td>Marvel</td>\n",
       "    </tr>\n",
       "    <tr>\n",
       "      <th>109</th>\n",
       "      <td>109</td>\n",
       "      <td>Mutant X</td>\n",
       "      <td>(2001–2004)</td>\n",
       "      <td>Action,Adventure,Drama</td>\n",
       "      <td>43 min</td>\n",
       "      <td>TV-PG</td>\n",
       "      <td>BillCorcoran</td>\n",
       "      <td>VictoriaPratt,VictorWebster,ForbesMarch,KarenC...</td>\n",
       "      <td>Mutant X unearths an old military experiment i...</td>\n",
       "      <td>5.4</td>\n",
       "      <td>NaN</td>\n",
       "      <td>19</td>\n",
       "      <td>NaN</td>\n",
       "      <td>Marvel</td>\n",
       "    </tr>\n",
       "    <tr>\n",
       "      <th>110</th>\n",
       "      <td>110</td>\n",
       "      <td>Mutant X</td>\n",
       "      <td>(2001–2004)</td>\n",
       "      <td>Action,Adventure,Drama</td>\n",
       "      <td>42 min</td>\n",
       "      <td>TV-PG</td>\n",
       "      <td>AndrewPotter</td>\n",
       "      <td>ForbesMarch,VictoriaPratt,LaurenLeeSmith,Victo...</td>\n",
       "      <td>A young New Mutant from Adam's past shows up, ...</td>\n",
       "      <td>6.8</td>\n",
       "      <td>NaN</td>\n",
       "      <td>30</td>\n",
       "      <td>NaN</td>\n",
       "      <td>Marvel</td>\n",
       "    </tr>\n",
       "  </tbody>\n",
       "</table>\n",
       "</div>"
      ],
      "text/plain": [
       "     Unnamed: 0      Movie         Year                   Genre RunTime  \\\n",
       "107         107   Mutant X  (2001–2004)  Action,Adventure,Drama  42 min   \n",
       "109         109   Mutant X  (2001–2004)  Action,Adventure,Drama  43 min   \n",
       "110         110   Mutant X  (2001–2004)  Action,Adventure,Drama  42 min   \n",
       "\n",
       "    Rating      Director                                              Actor  \\\n",
       "107  TV-PG    BradTurner  JohnShea,VictoriaPratt,LaurenLeeSmith,ForbesMarch   \n",
       "109  TV-PG  BillCorcoran  VictoriaPratt,VictorWebster,ForbesMarch,KarenC...   \n",
       "110  TV-PG  AndrewPotter  ForbesMarch,VictoriaPratt,LaurenLeeSmith,Victo...   \n",
       "\n",
       "                                           Description  IMDB_Score  Metascore  \\\n",
       "107  Mutant X encounters a new faction of New Mutan...         7.1        NaN   \n",
       "109  Mutant X unearths an old military experiment i...         5.4        NaN   \n",
       "110  A young New Mutant from Adam's past shows up, ...         6.8        NaN   \n",
       "\n",
       "    Votes USA_Gross Category  \n",
       "107    32       NaN   Marvel  \n",
       "109    19       NaN   Marvel  \n",
       "110    30       NaN   Marvel  "
      ]
     },
     "execution_count": 4,
     "metadata": {},
     "output_type": "execute_result"
    }
   ],
   "source": [
    "duplicate_row = movie_df[movie_df.duplicated(subset=['Movie','Year', 'Category', 'Director'], keep=False)]\n",
    "duplicate_row.head(3)"
   ]
  },
  {
   "cell_type": "markdown",
   "id": "e9c8c663",
   "metadata": {},
   "source": [
    "Có nhiều bộ phim cùng tên, năm, nhưng lại khác đạo diễn."
   ]
  },
  {
   "cell_type": "markdown",
   "id": "3341664c",
   "metadata": {},
   "source": [
    "### Kiểu dữ liệu của các cột là gì?"
   ]
  },
  {
   "cell_type": "code",
   "execution_count": 5,
   "id": "6d845969",
   "metadata": {},
   "outputs": [
    {
     "data": {
      "text/plain": [
       "Unnamed: 0       int64\n",
       "Movie           object\n",
       "Year            object\n",
       "Genre           object\n",
       "RunTime         object\n",
       "Rating          object\n",
       "Director        object\n",
       "Actor           object\n",
       "Description     object\n",
       "IMDB_Score     float64\n",
       "Metascore      float64\n",
       "Votes           object\n",
       "USA_Gross       object\n",
       "Category        object\n",
       "dtype: object"
      ]
     },
     "execution_count": 5,
     "metadata": {},
     "output_type": "execute_result"
    }
   ],
   "source": [
    "movie_df.dtypes"
   ]
  },
  {
   "cell_type": "markdown",
   "id": "21695727",
   "metadata": {},
   "source": [
    "Ta thấy cột year kiểu object, ta cần xử lí cột này ở phần Tiền xử lý\n"
   ]
  },
  {
   "cell_type": "markdown",
   "id": "44b6c860",
   "metadata": {},
   "source": [
    "### Xem tỉ lệ giá trị thiếu của các cột\n",
    "\n"
   ]
  },
  {
   "cell_type": "code",
   "execution_count": 6,
   "id": "b62c6bdf",
   "metadata": {},
   "outputs": [
    {
     "data": {
      "text/plain": [
       "Unnamed: 0     0.000000\n",
       "Movie          0.000000\n",
       "Year           0.019527\n",
       "Genre          0.004142\n",
       "RunTime        0.167456\n",
       "Rating         0.134320\n",
       "Director       0.127811\n",
       "Actor          0.017751\n",
       "Description    0.000000\n",
       "IMDB_Score     0.120710\n",
       "Metascore      0.961538\n",
       "Votes          0.120710\n",
       "USA_Gross      0.962130\n",
       "Category       0.000000\n",
       "dtype: float64"
      ]
     },
     "execution_count": 6,
     "metadata": {},
     "output_type": "execute_result"
    }
   ],
   "source": [
    "imdb_score = movie_df['IMDB_Score']\n",
    "imdb_score\n",
    "movie_df.isna().mean()"
   ]
  },
  {
   "cell_type": "markdown",
   "id": "3f2c588a",
   "metadata": {},
   "source": [
    "Cột tâm điểm của bộ dữ liệu này là cột IMDB_Score, cột này có tỉ lệ thiếu khá thấp, ta sẽ xoá những dòng thiếu dữ liệu ở cột này.\n",
    "Đồng thời xoá các cột không mang ý nghĩa khác."
   ]
  },
  {
   "cell_type": "markdown",
   "id": "f5628009",
   "metadata": {},
   "source": [
    "## Tiền xử lý"
   ]
  },
  {
   "cell_type": "markdown",
   "id": "382fc4d2",
   "metadata": {},
   "source": [
    "Từ các thông tin ở bước khám phá dữ liệu, ta cần có các bước tiền xử lý sau"
   ]
  },
  {
   "cell_type": "markdown",
   "id": "77f8be3e",
   "metadata": {},
   "source": [
    "### Bỏ các cột khôg mang ý nghĩa và các cột thiếu dữ liệu quá nhiều\n"
   ]
  },
  {
   "cell_type": "code",
   "execution_count": 7,
   "id": "d0e94942",
   "metadata": {},
   "outputs": [],
   "source": [
    "movie_df = movie_df.drop(columns = ['Unnamed: 0', 'Rating', 'Description' , 'Metascore', 'USA_Gross'])"
   ]
  },
  {
   "cell_type": "code",
   "execution_count": 8,
   "id": "a7bf56e3",
   "metadata": {},
   "outputs": [
    {
     "name": "stdout",
     "output_type": "stream",
     "text": [
      "<class 'pandas.core.frame.DataFrame'>\n",
      "RangeIndex: 1690 entries, 0 to 1689\n",
      "Data columns (total 9 columns):\n",
      " #   Column      Non-Null Count  Dtype  \n",
      "---  ------      --------------  -----  \n",
      " 0   Movie       1690 non-null   object \n",
      " 1   Year        1657 non-null   object \n",
      " 2   Genre       1683 non-null   object \n",
      " 3   RunTime     1407 non-null   object \n",
      " 4   Director    1474 non-null   object \n",
      " 5   Actor       1660 non-null   object \n",
      " 6   IMDB_Score  1486 non-null   float64\n",
      " 7   Votes       1486 non-null   object \n",
      " 8   Category    1690 non-null   object \n",
      "dtypes: float64(1), object(8)\n",
      "memory usage: 119.0+ KB\n"
     ]
    }
   ],
   "source": [
    "movie_df.info()"
   ]
  },
  {
   "cell_type": "markdown",
   "id": "859f26a8",
   "metadata": {},
   "source": [
    "### Xoá các dòng không có IMDB_Score\n"
   ]
  },
  {
   "cell_type": "code",
   "execution_count": 11,
   "id": "196539fd",
   "metadata": {},
   "outputs": [
    {
     "name": "stdout",
     "output_type": "stream",
     "text": [
      "<class 'pandas.core.frame.DataFrame'>\n",
      "Int64Index: 1486 entries, 2 to 1689\n",
      "Data columns (total 9 columns):\n",
      " #   Column      Non-Null Count  Dtype  \n",
      "---  ------      --------------  -----  \n",
      " 0   Movie       1486 non-null   object \n",
      " 1   Year        1486 non-null   object \n",
      " 2   Genre       1483 non-null   object \n",
      " 3   RunTime     1396 non-null   object \n",
      " 4   Director    1343 non-null   object \n",
      " 5   Actor       1473 non-null   object \n",
      " 6   IMDB_Score  1486 non-null   float64\n",
      " 7   Votes       1486 non-null   object \n",
      " 8   Category    1486 non-null   object \n",
      "dtypes: float64(1), object(8)\n",
      "memory usage: 116.1+ KB\n"
     ]
    },
    {
     "data": {
      "text/plain": [
       "(1486, 9)"
      ]
     },
     "execution_count": 11,
     "metadata": {},
     "output_type": "execute_result"
    }
   ],
   "source": [
    "movie_df = movie_df[movie_df['IMDB_Score'].notna()]\n",
    "movie_df.info()\n",
    "movie_df.shape"
   ]
  },
  {
   "cell_type": "markdown",
   "id": "bbd75282",
   "metadata": {},
   "source": [
    "## Phân tích để trả lời câu hỏi"
   ]
  },
  {
   "cell_type": "markdown",
   "id": "4f935dc9",
   "metadata": {},
   "source": [
    "### 1. Trung bình đánh giá của hãng phim nào cao hơn?"
   ]
  },
  {
   "cell_type": "markdown",
   "id": "7edb5eba",
   "metadata": {},
   "source": [
    "Hai hãng phim đình đám nhất của thế giới về các câu chuyện siêu anh hùng, liệu hãng phim nào sỡ hữu trung bình đánh giá cao hơn. Ta cùng xem điều đó thông qua dữ liệu."
   ]
  },
  {
   "cell_type": "code",
   "execution_count": 25,
   "id": "25017153",
   "metadata": {},
   "outputs": [
    {
     "data": {
      "text/html": [
       "<div>\n",
       "<style scoped>\n",
       "    .dataframe tbody tr th:only-of-type {\n",
       "        vertical-align: middle;\n",
       "    }\n",
       "\n",
       "    .dataframe tbody tr th {\n",
       "        vertical-align: top;\n",
       "    }\n",
       "\n",
       "    .dataframe thead th {\n",
       "        text-align: right;\n",
       "    }\n",
       "</style>\n",
       "<table border=\"1\" class=\"dataframe\">\n",
       "  <thead>\n",
       "    <tr style=\"text-align: right;\">\n",
       "      <th></th>\n",
       "      <th>DC</th>\n",
       "      <th>Marvel</th>\n",
       "    </tr>\n",
       "  </thead>\n",
       "  <tbody>\n",
       "    <tr>\n",
       "      <th>2</th>\n",
       "      <td>NaN</td>\n",
       "      <td>7.5</td>\n",
       "    </tr>\n",
       "    <tr>\n",
       "      <th>3</th>\n",
       "      <td>NaN</td>\n",
       "      <td>8.1</td>\n",
       "    </tr>\n",
       "    <tr>\n",
       "      <th>6</th>\n",
       "      <td>NaN</td>\n",
       "      <td>8.4</td>\n",
       "    </tr>\n",
       "    <tr>\n",
       "      <th>7</th>\n",
       "      <td>NaN</td>\n",
       "      <td>8.0</td>\n",
       "    </tr>\n",
       "    <tr>\n",
       "      <th>9</th>\n",
       "      <td>NaN</td>\n",
       "      <td>7.5</td>\n",
       "    </tr>\n",
       "    <tr>\n",
       "      <th>...</th>\n",
       "      <td>...</td>\n",
       "      <td>...</td>\n",
       "    </tr>\n",
       "    <tr>\n",
       "      <th>1685</th>\n",
       "      <td>8.5</td>\n",
       "      <td>NaN</td>\n",
       "    </tr>\n",
       "    <tr>\n",
       "      <th>1686</th>\n",
       "      <td>8.3</td>\n",
       "      <td>NaN</td>\n",
       "    </tr>\n",
       "    <tr>\n",
       "      <th>1687</th>\n",
       "      <td>8.1</td>\n",
       "      <td>NaN</td>\n",
       "    </tr>\n",
       "    <tr>\n",
       "      <th>1688</th>\n",
       "      <td>7.4</td>\n",
       "      <td>NaN</td>\n",
       "    </tr>\n",
       "    <tr>\n",
       "      <th>1689</th>\n",
       "      <td>7.5</td>\n",
       "      <td>NaN</td>\n",
       "    </tr>\n",
       "  </tbody>\n",
       "</table>\n",
       "<p>1486 rows × 2 columns</p>\n",
       "</div>"
      ],
      "text/plain": [
       "       DC  Marvel\n",
       "2     NaN     7.5\n",
       "3     NaN     8.1\n",
       "6     NaN     8.4\n",
       "7     NaN     8.0\n",
       "9     NaN     7.5\n",
       "...   ...     ...\n",
       "1685  8.5     NaN\n",
       "1686  8.3     NaN\n",
       "1687  8.1     NaN\n",
       "1688  7.4     NaN\n",
       "1689  7.5     NaN\n",
       "\n",
       "[1486 rows x 2 columns]"
      ]
     },
     "execution_count": 25,
     "metadata": {},
     "output_type": "execute_result"
    }
   ],
   "source": [
    "group_average_rating = movie_df['IMDB_Score'].groupby(movie_df['Category'])\n",
    "group_average_rating.mean()\n",
    "group_average_rating.apply(pd.DataFrame)\n"
   ]
  },
  {
   "cell_type": "markdown",
   "id": "5b581eef",
   "metadata": {},
   "source": [
    "Như vậy ta thấy rating của DC cao hơn so với Marvel"
   ]
  },
  {
   "cell_type": "markdown",
   "id": "58405f9d",
   "metadata": {},
   "source": [
    "### 2. Các diễn viên và đạo diễn có làm việc cho cả hai hãng phim không? "
   ]
  },
  {
   "cell_type": "markdown",
   "id": "0099325f",
   "metadata": {},
   "source": [
    "Ngoài những con số ra, ta cùng xem các diễn viên và đạo diễn làm việc như thế nào trong mối quan hệ cạnh tranh của Marvel và DC"
   ]
  },
  {
   "cell_type": "code",
   "execution_count": 29,
   "id": "9eaf0504",
   "metadata": {},
   "outputs": [
    {
     "data": {
      "text/html": [
       "<div>\n",
       "<style scoped>\n",
       "    .dataframe tbody tr th:only-of-type {\n",
       "        vertical-align: middle;\n",
       "    }\n",
       "\n",
       "    .dataframe tbody tr th {\n",
       "        vertical-align: top;\n",
       "    }\n",
       "\n",
       "    .dataframe thead th {\n",
       "        text-align: right;\n",
       "    }\n",
       "</style>\n",
       "<table border=\"1\" class=\"dataframe\">\n",
       "  <thead>\n",
       "    <tr style=\"text-align: right;\">\n",
       "      <th></th>\n",
       "      <th>DC</th>\n",
       "      <th>Marvel</th>\n",
       "    </tr>\n",
       "  </thead>\n",
       "  <tbody>\n",
       "    <tr>\n",
       "      <th>2</th>\n",
       "      <td>NaN</td>\n",
       "      <td>AnthonyMackie,SebastianStan,WyattRussell,ErinK...</td>\n",
       "    </tr>\n",
       "    <tr>\n",
       "      <th>3</th>\n",
       "      <td>NaN</td>\n",
       "      <td>ElizabethOlsen,PaulBettany,KathrynHahn,Teyonah...</td>\n",
       "    </tr>\n",
       "    <tr>\n",
       "      <th>6</th>\n",
       "      <td>NaN</td>\n",
       "      <td>RobertDowneyJr.,ChrisEvans,MarkRuffalo,ChrisHe...</td>\n",
       "    </tr>\n",
       "    <tr>\n",
       "      <th>7</th>\n",
       "      <td>NaN</td>\n",
       "      <td>ChrisPratt,VinDiesel,BradleyCooper,ZoeSaldana</td>\n",
       "    </tr>\n",
       "    <tr>\n",
       "      <th>9</th>\n",
       "      <td>NaN</td>\n",
       "      <td>TomHolland,SamuelL.Jackson,JakeGyllenhaal,Mari...</td>\n",
       "    </tr>\n",
       "    <tr>\n",
       "      <th>...</th>\n",
       "      <td>...</td>\n",
       "      <td>...</td>\n",
       "    </tr>\n",
       "    <tr>\n",
       "      <th>1685</th>\n",
       "      <td>BrandonRouth,CaityLotz,MaisieRichardson-Seller...</td>\n",
       "      <td>NaN</td>\n",
       "    </tr>\n",
       "    <tr>\n",
       "      <th>1686</th>\n",
       "      <td>MelissaBenoist,MehcadBrooks,ChylerLeigh,KatieM...</td>\n",
       "      <td>NaN</td>\n",
       "    </tr>\n",
       "    <tr>\n",
       "      <th>1687</th>\n",
       "      <td>MelissaBenoist,MehcadBrooks,ChylerLeigh,KatieM...</td>\n",
       "      <td>NaN</td>\n",
       "    </tr>\n",
       "    <tr>\n",
       "      <th>1688</th>\n",
       "      <td>MelissaBenoist,MehcadBrooks,ChylerLeigh,KatieM...</td>\n",
       "      <td>NaN</td>\n",
       "    </tr>\n",
       "    <tr>\n",
       "      <th>1689</th>\n",
       "      <td>MelissaBenoist,MehcadBrooks,ChylerLeigh,KatieM...</td>\n",
       "      <td>NaN</td>\n",
       "    </tr>\n",
       "  </tbody>\n",
       "</table>\n",
       "<p>1486 rows × 2 columns</p>\n",
       "</div>"
      ],
      "text/plain": [
       "                                                     DC  \\\n",
       "2                                                   NaN   \n",
       "3                                                   NaN   \n",
       "6                                                   NaN   \n",
       "7                                                   NaN   \n",
       "9                                                   NaN   \n",
       "...                                                 ...   \n",
       "1685  BrandonRouth,CaityLotz,MaisieRichardson-Seller...   \n",
       "1686  MelissaBenoist,MehcadBrooks,ChylerLeigh,KatieM...   \n",
       "1687  MelissaBenoist,MehcadBrooks,ChylerLeigh,KatieM...   \n",
       "1688  MelissaBenoist,MehcadBrooks,ChylerLeigh,KatieM...   \n",
       "1689  MelissaBenoist,MehcadBrooks,ChylerLeigh,KatieM...   \n",
       "\n",
       "                                                 Marvel  \n",
       "2     AnthonyMackie,SebastianStan,WyattRussell,ErinK...  \n",
       "3     ElizabethOlsen,PaulBettany,KathrynHahn,Teyonah...  \n",
       "6     RobertDowneyJr.,ChrisEvans,MarkRuffalo,ChrisHe...  \n",
       "7         ChrisPratt,VinDiesel,BradleyCooper,ZoeSaldana  \n",
       "9     TomHolland,SamuelL.Jackson,JakeGyllenhaal,Mari...  \n",
       "...                                                 ...  \n",
       "1685                                                NaN  \n",
       "1686                                                NaN  \n",
       "1687                                                NaN  \n",
       "1688                                                NaN  \n",
       "1689                                                NaN  \n",
       "\n",
       "[1486 rows x 2 columns]"
      ]
     },
     "execution_count": 29,
     "metadata": {},
     "output_type": "execute_result"
    }
   ],
   "source": [
    "actors = movie_df['Actor'].groupby(movie_df['Category'])\n",
    "actors.apply(pd.DataFrame)\n"
   ]
  },
  {
   "cell_type": "code",
   "execution_count": null,
   "id": "613e07f8",
   "metadata": {},
   "outputs": [],
   "source": []
  },
  {
   "cell_type": "code",
   "execution_count": null,
   "id": "6f022042",
   "metadata": {},
   "outputs": [],
   "source": []
  }
 ],
 "metadata": {
  "kernelspec": {
   "display_name": "Python 3",
   "language": "python",
   "name": "python3"
  },
  "language_info": {
   "codemirror_mode": {
    "name": "ipython",
    "version": 3
   },
   "file_extension": ".py",
   "mimetype": "text/x-python",
   "name": "python",
   "nbconvert_exporter": "python",
   "pygments_lexer": "ipython3",
   "version": "3.9.0"
  }
 },
 "nbformat": 4,
 "nbformat_minor": 5
}
